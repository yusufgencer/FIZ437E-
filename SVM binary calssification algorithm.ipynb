{
 "cells": [
  {
   "cell_type": "code",
   "execution_count": null,
   "id": "73505dd4",
   "metadata": {},
   "outputs": [],
   "source": [
    "class SVMClassifier:\n",
    "    def __init__(self, learning_rate=0.01, epochs=100):\n",
    "        self.learning_rate = learning_rate\n",
    "        self.epochs = epochs\n",
    "        self.weights = None\n",
    "        self.bias = None\n",
    "\n",
    "    def train(self, X, y):\n",
    "        self.weights = [random.random() for _ in range(len(X[0]))]\n",
    "        self.bias = random.random()\n",
    "        for _ in range(self.epochs):\n",
    "            for i in range(len(X)):\n",
    "                prediction = self.predict(X[i])\n",
    "                if y[i] * prediction <= 1:\n",
    "                    self.weights = [w + self.learning_rate * y[i] * x for w, x in zip(self.weights, X[i])]\n",
    "                    self.bias += self.learning_rate * y[i]\n",
    "                else:\n",
    "                    self.weights = [w - self.learning_rate * y[i] * x for w, x in zip(self.weights, X[i])]\n",
    "                    self.bias -= self.learning_rate * y[i]\n",
    "    \n",
    "    def predict(self, x):\n",
    "        dot_product = sum(w * x for w, x in zip(self.weights, x)) + self.bias\n",
    "        return 1 if dot_product >= 0 else -1\n"
   ]
  }
 ],
 "metadata": {
  "kernelspec": {
   "display_name": "Python 3 (ipykernel)",
   "language": "python",
   "name": "python3"
  },
  "language_info": {
   "codemirror_mode": {
    "name": "ipython",
    "version": 3
   },
   "file_extension": ".py",
   "mimetype": "text/x-python",
   "name": "python",
   "nbconvert_exporter": "python",
   "pygments_lexer": "ipython3",
   "version": "3.7.3"
  }
 },
 "nbformat": 4,
 "nbformat_minor": 5
}
