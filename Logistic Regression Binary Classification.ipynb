{
 "cells": [
  {
   "cell_type": "code",
   "execution_count": 68,
   "id": "908ba57c",
   "metadata": {},
   "outputs": [
    {
     "name": "stdout",
     "output_type": "stream",
     "text": [
      "shape of data: (569, 30)\n"
     ]
    }
   ],
   "source": [
    "import numpy as np\n",
    "import pandas as pd\n",
    "import matplotlib.pyplot as plt\n",
    "from sklearn.datasets import load_breast_cancer\n",
    "data = load_breast_cancer()\n",
    "x=data.data\n",
    "y=data.target\n",
    "print(\"shape of data:\",x.shape)\n",
    "from sklearn.preprocessing import MinMaxScaler\n",
    "scaler=MinMaxScaler()\n",
    "x_new=scaler.fit_transform(x)"
   ]
  },
  {
   "cell_type": "code",
   "execution_count": 76,
   "id": "1010c33e",
   "metadata": {},
   "outputs": [],
   "source": [
    "from sklearn.model_selection import train_test_split\n",
    "x_train, x_test, y_train, y_test = train_test_split(x_new, y, test_size = 0.10, random_state=2021)\n",
    "x_train = x_train.T\n",
    "x_test = x_test.T\n",
    "y_train = y_train.T\n",
    "y_test = y_test.T"
   ]
  },
  {
   "cell_type": "code",
   "execution_count": 77,
   "id": "76d34a78",
   "metadata": {},
   "outputs": [],
   "source": [
    "def weights_bias(shape):\n",
    "    weights = np.full((shape,1),0.1)\n",
    "    bias = 1\n",
    "    return weights,bias"
   ]
  },
  {
   "cell_type": "code",
   "execution_count": 78,
   "id": "64bda2e7",
   "metadata": {},
   "outputs": [],
   "source": [
    "def sigmoid(z):  \n",
    "    y_predict = 1/(1+ np.exp(-z))\n",
    "    return y_predict"
   ]
  },
  {
   "cell_type": "code",
   "execution_count": 79,
   "id": "3a4dd724",
   "metadata": {},
   "outputs": [],
   "source": [
    "def forward_backward(w,b,x_train,y_train):\n",
    "    z = np.dot(w.T,x_train) + b\n",
    "    y_predict = sigmoid(z)\n",
    "    derivative_weight = (np.dot(x_train,((y_predict-y_train).T)))/x_train.shape[1]\n",
    "    derivative_bias = np.sum(y_predict-y_train)/x_train.shape[1]                 \n",
    "    gradients = {\"derivative_weight\": derivative_weight, \"derivative_bias\": derivative_bias}\n",
    "    return gradients"
   ]
  },
  {
   "cell_type": "code",
   "execution_count": 80,
   "id": "ef99ab6f",
   "metadata": {},
   "outputs": [],
   "source": [
    "def update_parameters(w, b, x_train, y_train, learning_rate,iterations):\n",
    "    index = []\n",
    "    for i in range(iterations):\n",
    "        gradients = forward_backward(w,b,x_train,y_train)\n",
    "        w = w - learning_rate * gradients[\"derivative_weight\"]\n",
    "        b = b - learning_rate * gradients[\"derivative_bias\"]\n",
    "    parameters = {\"weight\": w,\"bias\": b}\n",
    "    return parameters, gradients"
   ]
  },
  {
   "cell_type": "code",
   "execution_count": 81,
   "id": "c3caf2f8",
   "metadata": {},
   "outputs": [],
   "source": [
    "def predict(w,b,x_test):\n",
    "    z = sigmoid(np.dot(w.T,x_test)+b)\n",
    "    y_prediction = np.zeros((1,x_test.shape[1]))\n",
    "    for i in range(z.shape[1]):\n",
    "        if z[0,i]<= 0.5:\n",
    "            y_prediction[0,i] = 0\n",
    "        else:\n",
    "            y_prediction[0,i] = 1\n",
    "    return y_prediction"
   ]
  },
  {
   "cell_type": "code",
   "execution_count": 84,
   "id": "f22bc56e",
   "metadata": {},
   "outputs": [],
   "source": [
    "def logistic_regression(x_train, y_train, x_test, y_test, learning_rate ,  iterations):\n",
    "    shape =  x_train.shape[0]\n",
    "    w,b = weights_bias(shape)\n",
    "    parameters, gradients = update_parameters(w, b, x_train, y_train, learning_rate,iterations)\n",
    "    y_prediction_test = predict(parameters[\"weight\"],parameters[\"bias\"],x_test)\n",
    "    score = 100 - np.mean(np.abs(y_prediction_test - y_test)) * 100\n",
    "    return score\n"
   ]
  },
  {
   "cell_type": "code",
   "execution_count": 111,
   "id": "b0b5ab4d",
   "metadata": {},
   "outputs": [],
   "source": [
    "loss_values=[]\n",
    "for i in range(1,200):\n",
    "    loss_values+=[logistic_regression(x_train, y_train, x_test, y_test,learning_rate = 0.1, iterations = i)]\n",
    "    i+=1"
   ]
  },
  {
   "cell_type": "code",
   "execution_count": 112,
   "id": "b7de848c",
   "metadata": {},
   "outputs": [
    {
     "data": {
      "image/png": "[encoded data removed]",
      "text/plain": [
       "<Figure size 432x288 with 1 Axes>"
      ]
     },
     "metadata": {
      "needs_background": "light"
     },
     "output_type": "display_data"
    }
   ],
   "source": [
    "from matplotlib import pyplot as plt\n",
    "plt.plot(loss_values)\n",
    "plt.show()"
   ]
  }
 ],
 "metadata": {
  "kernelspec": {
   "display_name": "Python 3",
   "language": "python",
   "name": "python3"
  },
  "language_info": {
   "codemirror_mode": {
    "name": "ipython",
    "version": 3
   },
   "file_extension": ".py",
   "mimetype": "text/x-python",
   "name": "python",
   "nbconvert_exporter": "python",
   "pygments_lexer": "ipython3",
   "version": "3.8.8"
  }
 },
 "nbformat": 4,
 "nbformat_minor": 5
}
