{
 "cells": [
  {
   "cell_type": "code",
   "execution_count": null,
   "id": "f3d15210",
   "metadata": {},
   "outputs": [],
   "source": [
    "class BinaryClassifier:\n",
    "    def __init__(self):\n",
    "        self.weights = None\n",
    "\n",
    "    def train(self, X, y, learning_rate=0.1, epochs=100):\n",
    "        # Initialize weights to random values\n",
    "        self.weights = [random.random() for _ in range(len(X[0]))]\n",
    "\n",
    "        for _ in range(epochs):\n",
    "            for i in range(len(X)):\n",
    "                # Make a prediction based on current weights\n",
    "                prediction = self.predict(X[i])\n",
    "\n",
    "                # Update weights based on prediction error\n",
    "                error = y[i] - prediction\n",
    "                self.weights = [w + learning_rate * error * x for w, x in zip(self.weights, X[i])]\n",
    "\n",
    "    def predict(self, x):\n",
    "        # Calculate dot product between input features and weights\n",
    "        dot_product = sum(w * x for w, x in zip(self.weights, x))\n",
    "\n",
    "        # Return 1 if dot product is greater than or equal to 0, else return 0\n",
    "        return 1 if dot_product >= 0 else 0\n"
   ]
  }
 ],
 "metadata": {
  "kernelspec": {
   "display_name": "Python 3 (ipykernel)",
   "language": "python",
   "name": "python3"
  },
  "language_info": {
   "codemirror_mode": {
    "name": "ipython",
    "version": 3
   },
   "file_extension": ".py",
   "mimetype": "text/x-python",
   "name": "python",
   "nbconvert_exporter": "python",
   "pygments_lexer": "ipython3",
   "version": "3.7.3"
  }
 },
 "nbformat": 4,
 "nbformat_minor": 5
}
